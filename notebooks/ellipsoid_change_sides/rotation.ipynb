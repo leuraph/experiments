{
 "cells": [
  {
   "cell_type": "code",
   "execution_count": 2,
   "id": "d4111861-13de-4064-a7f1-f82e5e12c3f7",
   "metadata": {},
   "outputs": [],
   "source": [
    "import numpy as np\n",
    "\n",
    "def get_householder_matrix(v: np.ndarray) -> np.ndarray:\n",
    "    dim = v.shape[0]\n",
    "    return np.identity(dim) - 2. * (np.outer(v, v))/np.linalg.norm(v)**2"
   ]
  },
  {
   "cell_type": "code",
   "execution_count": 22,
   "id": "fccf9eb9-5f1f-4933-ba50-6d8d05655080",
   "metadata": {},
   "outputs": [],
   "source": [
    "np.random.seed(42)\n",
    "\n",
    "dim = 10\n",
    "\n",
    "random_vector = np.random.rand(dim)\n",
    "\n",
    "e_m = np.zeros(dim)\n",
    "e_m[dim - 1] = 1\n",
    "\n",
    "H1 = get_householder_matrix(random_vector/np.linalg.norm(random_vector) + e_m)\n",
    "H2 = get_householder_matrix(random_vector)\n",
    "T = H2.dot(H1)"
   ]
  },
  {
   "cell_type": "code",
   "execution_count": 29,
   "id": "cea5a090-eb1d-4c77-8f2f-7288c23c6b79",
   "metadata": {},
   "outputs": [
    {
     "name": "stdout",
     "output_type": "stream",
     "text": [
      "True\n",
      "True\n",
      "True\n",
      "True\n",
      "True\n",
      "True\n",
      "True\n",
      "True\n",
      "True\n",
      "1.8982523713696784\n"
     ]
    }
   ],
   "source": [
    "for j in range(dim-1):\n",
    "    e_j = np.zeros(dim)\n",
    "    e_j[j] = 1\n",
    "\n",
    "    e_j_rotated = T.dot(e_j)\n",
    "    print(np.isclose(e_j_rotated.dot(random_vector), 0))\n",
    "\n",
    "e_m = np.zeros(dim)\n",
    "e_m[dim-1] = 1\n",
    "e_m_rotated = T.dot(e_m)\n",
    "\n",
    "print(e_m_rotated.dot(random_vector))"
   ]
  },
  {
   "cell_type": "code",
   "execution_count": null,
   "id": "9cb66be0-1825-49d5-93b3-e84e68c5dbff",
   "metadata": {},
   "outputs": [],
   "source": []
  }
 ],
 "metadata": {
  "kernelspec": {
   "display_name": "Python 3 (ipykernel)",
   "language": "python",
   "name": "python3"
  },
  "language_info": {
   "codemirror_mode": {
    "name": "ipython",
    "version": 3
   },
   "file_extension": ".py",
   "mimetype": "text/x-python",
   "name": "python",
   "nbconvert_exporter": "python",
   "pygments_lexer": "ipython3",
   "version": "3.9.18"
  }
 },
 "nbformat": 4,
 "nbformat_minor": 5
}
